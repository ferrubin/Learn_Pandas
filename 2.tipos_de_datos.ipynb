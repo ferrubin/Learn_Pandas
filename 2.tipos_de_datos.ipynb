{
 "cells": [
  {
   "cell_type": "markdown",
   "metadata": {},
   "source": [
    "# Crear Datos\n"
   ]
  },
  {
   "cell_type": "code",
   "execution_count": 1,
   "metadata": {},
   "outputs": [
    {
     "data": {
      "text/plain": [
       "0    Pedro\n",
       "1    Maria\n",
       "2     Juan\n",
       "dtype: object"
      ]
     },
     "execution_count": 1,
     "metadata": {},
     "output_type": "execute_result"
    }
   ],
   "source": [
    "import pandas as pd\n",
    "\n",
    "serie=pd.Series(['Pedro', 'Maria','Juan'])\n",
    "serie"
   ]
  },
  {
   "cell_type": "code",
   "execution_count": 2,
   "metadata": {},
   "outputs": [
    {
     "data": {
      "text/plain": [
       "RangeIndex(start=0, stop=3, step=1)"
      ]
     },
     "execution_count": 2,
     "metadata": {},
     "output_type": "execute_result"
    }
   ],
   "source": [
    "serie.index"
   ]
  },
  {
   "cell_type": "code",
   "execution_count": 4,
   "metadata": {},
   "outputs": [
    {
     "data": {
      "text/plain": [
       "array(['Pedro', 'Maria', 'Juan'], dtype=object)"
      ]
     },
     "execution_count": 4,
     "metadata": {},
     "output_type": "execute_result"
    }
   ],
   "source": [
    "serie.values"
   ]
  },
  {
   "cell_type": "markdown",
   "metadata": {},
   "source": [
    "## Definir uno mismo el Indice\n"
   ]
  },
  {
   "cell_type": "code",
   "execution_count": 5,
   "metadata": {},
   "outputs": [
    {
     "name": "stdout",
     "output_type": "stream",
     "text": [
      "Esto es el indice:  [20, 22, 24, 26, 28, 30]\n",
      "Estos son los valores:  ['Pedro', 'María', 'Juan', 'Fran', 'Victor', 'Jose']\n"
     ]
    }
   ],
   "source": [
    "#Desde una linea propia\n",
    "\n",
    "indice = list(range(20,31,2))\n",
    "print('Esto es el indice: ', indice)\n",
    "\n",
    "valores = ['Pedro', 'María', 'Juan', 'Fran', 'Victor', 'Jose']\n",
    "print('Estos son los valores: ',valores)\n",
    "\n",
    "#Cómo los uno?\n",
    "indice_propio= pd.Series(valores, index=indice)"
   ]
  },
  {
   "cell_type": "code",
   "execution_count": 6,
   "metadata": {},
   "outputs": [
    {
     "data": {
      "text/plain": [
       "20     Pedro\n",
       "22     María\n",
       "24      Juan\n",
       "26      Fran\n",
       "28    Victor\n",
       "30      Jose\n",
       "dtype: object"
      ]
     },
     "execution_count": 6,
     "metadata": {},
     "output_type": "execute_result"
    }
   ],
   "source": [
    "indice_propio"
   ]
  },
  {
   "cell_type": "code",
   "execution_count": 7,
   "metadata": {},
   "outputs": [
    {
     "data": {
      "text/plain": [
       "{20: 'Pedro', 22: 'María', 24: 'Juan', 26: 'Fran', 28: 'Victor', 30: 'Jose'}"
      ]
     },
     "execution_count": 7,
     "metadata": {},
     "output_type": "execute_result"
    }
   ],
   "source": [
    "# Con el método ZIP.\n",
    "diccionario = dict(zip(indice, valores))\n",
    "diccionario"
   ]
  },
  {
   "cell_type": "code",
   "execution_count": 8,
   "metadata": {},
   "outputs": [
    {
     "name": "stdout",
     "output_type": "stream",
     "text": [
      "{20: 'Pedro', 22: 'María', 24: 'Juan', 26: 'Fran', 28: 'Victor', 30: 'Jose'}\n"
     ]
    }
   ],
   "source": [
    "# Otro ejemplo de como crearlo con un list comprehension, como recordatorio.\n",
    "diccionario_comprehension = {indice[i]: valores[i] for i in range(len(indice))}\n",
    "print(diccionario_comprehension)"
   ]
  },
  {
   "cell_type": "code",
   "execution_count": 9,
   "metadata": {},
   "outputs": [
    {
     "data": {
      "text/plain": [
       "20     Pedro\n",
       "22     María\n",
       "24      Juan\n",
       "26      Fran\n",
       "28    Victor\n",
       "30      Jose\n",
       "dtype: object"
      ]
     },
     "execution_count": 9,
     "metadata": {},
     "output_type": "execute_result"
    }
   ],
   "source": [
    "serie_dict = pd.Series(diccionario)\n",
    "serie_dict"
   ]
  },
  {
   "cell_type": "code",
   "execution_count": 10,
   "metadata": {},
   "outputs": [
    {
     "data": {
      "text/plain": [
       "0     Pedro\n",
       "1     María\n",
       "2      Juan\n",
       "3      Fran\n",
       "4    Victor\n",
       "5      Jose\n",
       "dtype: object"
      ]
     },
     "execution_count": 10,
     "metadata": {},
     "output_type": "execute_result"
    }
   ],
   "source": [
    "#Desde un Array de NumPy\n",
    "\n",
    "import numpy as np\n",
    "np_array = np.array(valores)\n",
    "array_de_numpy = pd.Series(np_array)\n",
    "array_de_numpy"
   ]
  },
  {
   "cell_type": "code",
   "execution_count": null,
   "metadata": {},
   "outputs": [],
   "source": [
    "#Ahora al reves de Pandas a Numpy\n",
    "\n"
   ]
  }
 ],
 "metadata": {
  "kernelspec": {
   "display_name": "Python 3",
   "language": "python",
   "name": "python3"
  },
  "language_info": {
   "codemirror_mode": {
    "name": "ipython",
    "version": 3
   },
   "file_extension": ".py",
   "mimetype": "text/x-python",
   "name": "python",
   "nbconvert_exporter": "python",
   "pygments_lexer": "ipython3",
   "version": "3.12.1"
  }
 },
 "nbformat": 4,
 "nbformat_minor": 2
}
